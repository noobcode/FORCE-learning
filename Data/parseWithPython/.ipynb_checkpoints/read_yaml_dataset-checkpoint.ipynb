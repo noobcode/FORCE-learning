{
 "cells": [
  {
   "cell_type": "code",
   "execution_count": 151,
   "metadata": {
    "collapsed": true
   },
   "outputs": [],
   "source": [
    "import yaml\n",
    "import yamlordereddictloader\n",
    "import pandas as pd\n",
    "import numpy as np\n",
    "import matplotlib.pyplot as plt\n",
    "\n",
    "from yaml import load, dump, safe_load\n",
    "try:\n",
    "    from yaml import CLoader as Loader, CDumper as Dumper\n",
    "except ImportError:\n",
    "    from yaml import Loader, Dumper"
   ]
  },
  {
   "cell_type": "code",
   "execution_count": null,
   "metadata": {
    "collapsed": true
   },
   "outputs": [],
   "source": [
    "#with open(\"../traj1.yaml\") as f:\n",
    "#\tprint(\"2\")\n",
    "#\tyaml_data = yaml.load(f, Loader=yamlordereddictloader.Loader)\n",
    "#\tprint(\"3\")\n",
    "\n",
    "#print(yaml.dump(yaml_data))"
   ]
  },
  {
   "cell_type": "code",
   "execution_count": 231,
   "metadata": {
    "collapsed": true
   },
   "outputs": [],
   "source": [
    "dataset_num = 4\n",
    "with open(\"../traj\" + str(dataset_num)+ \".yaml\") as f:\n",
    "    yaml_data = load(f, Loader=Loader)"
   ]
  },
  {
   "cell_type": "code",
   "execution_count": 232,
   "metadata": {},
   "outputs": [
    {
     "name": "stdout",
     "output_type": "stream",
     "text": [
      "<class 'moveit_msgs.msg._RobotTrajectory.RobotTrajectory'>\n"
     ]
    }
   ],
   "source": [
    "print(type(yaml_data))"
   ]
  },
  {
   "cell_type": "code",
   "execution_count": 233,
   "metadata": {},
   "outputs": [
    {
     "name": "stdout",
     "output_type": "stream",
     "text": [
      "joint_trajectory: \n",
      "  header: \n",
      "    seq: 0\n",
      "    stamp: \n",
      "      secs: 0\n",
      "      nsecs:         0\n",
      "    frame_id: \"/world\"\n",
      "  joint_names: [joint_a1, joint_a2, joint_a3, joint_a4, joint_a5, joint_a6, joint_a7]\n",
      "  points: \n",
      "    - \n",
      "      positions: [0.22993978394848558, 0.30235279525838354, -0.06983869617000682, -1.37272127141694, 0.009811234651190048, 1.4999268208014893, 0.21006381414736897]\n",
      "      velocities: [0.0, 0.0, 0.0, 0.0, 0.0, 0.0, 0.0]\n",
      "      accelerations: [0.4706977285591956, 0.0, 0.0, 0.0, 0.0, 0.0, 0.0]\n",
      "      effort: []\n",
      "      time_from_start: \n",
      "        secs: 0\n",
      "        nsecs:         0\n",
      "    - \n",
      "      positions: [0.2550680790171641, 0.34204475187025646, -0.0708040538276114, -1.3856114780030695, 0.025872390069413706, 1.4482376719239993, 0.22070011064586875]\n",
      "      velocities: [0.13206809890573534, 0.20861109905196085, -0.005073680894604249, -0.06774773512009126, 0.0844134572806058, -0.27166537195014945, 0.05590174160703488]\n",
      "      accelerations: [0.478700835082102, 0.7561425366987866, -0.018390325152789228, -0.24556193089488335, 0.30596936601045127, -0.9846923026297887, 0.20262433253417073]\n",
      "      effort: []\n",
      "      time_from_start: \n",
      "        secs: 0\n",
      "        nsecs: 326757420\n",
      "    - \n",
      "      positions: [0.2801963740858426, 0.38173670848212937, -0.071769411485216, -1.398501684589199, 0.041933545487637364, 1.3965485230465091, 0.2313364071443685]\n",
      "      velocities: [0.2143288003871609, 0.3385478172072957, -0.008233903180994127, -0.10994548204710854, 0.13699171249825107, -0.44087643995213677, 0.09072102436138353]\n",
      "      accelerations: [0.4548137382262006, 0.7184111422927232, -0.017472650801831455, -0.23330842892135228, 0.2907015424655468, -0.9355563106230916, 0.19251341000825584]\n",
      "      effort: []\n",
      "      time_from_start: \n",
      "        secs: 0\n",
      "        nsecs: 460965239\n",
      "    - \n",
      "      positions: [0.3053246691545211, 0.4214286650940023, -0.07273476914282058, -1.4113918911753287, 0.05799470090586102, 1.3448593741690191, 0.2419727036428683]\n",
      "      velocities: [0.2625161490683741, 0.41466321412811413, -0.010085124122245128, -0.13466442448395272, 0.1677914342559677, -0.5399982877809366, 0.11111774951321574]\n",
      "      accelerations: [0.4378683340441406, 0.6916446527347844, -0.016821656548398234, -0.2246158471128731, 0.27987061384708417, -0.9006994483822997, 0.18534076488152829]\n",
      "      effort: []\n",
      "      time_from_start: \n",
      "        secs: 0\n",
      "        nsecs: 565049168\n",
      "    - \n",
      "      positions: [0.3304529642231996, 0.4611206217058752, -0.07370012680042518, -1.4242820977614583, 0.07405585632408468, 1.2931702252915291, 0.25260900014136806]\n",
      "      velocities: [0.30372494003951683, 0.47975547521402967, -0.011668248716090134, -0.15580353588529763, 0.19413069820426476, -0.6247651741035913, 0.12856059304541026]\n",
      "      accelerations: [0.4841506382317783, 0.7647508943119412, -0.018599691096182158, -0.24835754787808695, 0.30945269566518113, -0.9959026010438647, 0.20493112342467926]\n",
      "      effort: []\n",
      "      time_from_start: \n",
      "        secs: 0\n",
      "        nsecs: 653651093\n",
      "    - \n",
      "      positions: [0.3555812592918781, 0.5008125783177482, -0.07466548445802976, -1.437172304347588, 0.09011701174230834, 1.241481076414039, 0.26324529663986784]\n",
      "      velocities: [0.3390105374732353, 0.5354916243851241, -0.01302382105367578, -0.17390419250336522, 0.21668405738995122, -0.6973479933516841, 0.1434962691589696]\n",
      "      accelerations: [0.40849133990653047, 0.6452415691387364, -0.015693075951478112, -0.20954616083776262, 0.26109383383574847, -0.8402706839395397, 0.17290608043404349]\n",
      "      effort: []\n",
      "      time_from_start: \n",
      "        secs: 0\n",
      "        nsecs: 731245645\n",
      "    - \n",
      "      positions: [0.38070955436055665, 0.540504534929621, -0.07563084211563434, -1.4500625109337175, 0.106178167160532, 1.189791927536549, 0.27388159313836763]\n",
      "      velocities: [0.36695455558106427, 0.5796312188648084, -0.014097350785434663, -0.18823879679195638, 0.2345449276405131, -0.7548291120771327, 0.15532440398236202]\n",
      "      accelerations: [0.3726446951806109, 0.5886192052555853, -0.014315949771968508, -0.19115770055130868, 0.23818187221673717, -0.7665337849206667, 0.15773292440657824]\n",
      "      effort: []\n",
      "      time_from_start: \n",
      "        secs: 0\n",
      "        nsecs: 802193433\n",
      "    - \n",
      "      positions: [0.4058378494292352, 0.5801964915414939, -0.07659619977323893, -1.4629527175198471, 0.12223932257875567, 1.138102778659059, 0.2845178896368674]\n",
      "      velocities: [0.391409501682244, 0.6182595721590066, -0.015036840290017416, -0.20078359167100904, 0.2501757011968504, -0.8051331755386651, 0.16567568555065254]\n",
      "      accelerations: [0.3635570511966973, 0.5742646153510188, -0.013966828325980575, -0.18649595935425015, 0.23237335787018068, -0.7478404123084427, 0.15388630944039747]\n",
      "      effort: []\n",
      "      time_from_start: \n",
      "        secs: 0\n",
      "        nsecs: 868367717\n",
      "    - \n",
      "      positions: [0.4309661444979136, 0.6198884481533669, -0.07756155743084352, -1.4758429241059767, 0.1383004779969793, 1.086413629781569, 0.29515418613536715]\n",
      "      velocities: [0.4154890731723976, 0.6562949941487386, -0.01596190896922246, -0.21313582846881893, 0.2655665480111911, -0.854665089751666, 0.17586807867665288]\n",
      "      accelerations: [0.4096651851694881, 0.6470957424966349, -0.01573817174927945, -0.21014831501885356, 0.2618441159839604, -0.842685295133467, 0.17340294527212813]\n",
      "      effort: []\n",
      "      time_from_start: \n",
      "        secs: 0\n",
      "        nsecs: 930706885\n",
      "    - \n",
      "      positions: [0.4560944395665921, 0.6595804047652398, -0.07852691508844811, -1.4887331306921063, 0.15436163341520298, 1.0347244809040788, 0.305790482633867]\n",
      "      velocities: [0.4388014497879492, 0.6931185764337711, -0.016857504202455582, -0.22509451288281523, 0.28046702983724336, -0.9026188765993589, 0.18573573380765135]\n",
      "      accelerations: [0.3809099568608502, 0.6016747829261092, -0.01463347762784315, -0.1953975795504809, 0.24346474763886528, -0.7835355090859099, 0.1612314416608358]\n",
      "      effort: []\n",
      "      time_from_start: \n",
      "        secs: 0\n",
      "        nsecs: 989433202\n",
      "    - \n",
      "      positions: [0.48122273463527065, 0.6992723613771127, -0.0794922727460527, -1.501623337278236, 0.17042278883342662, 0.9830353320265887, 0.3164267791323667]\n",
      "      velocities: [0.4588448588759113, 0.7247785884520581, -0.017627514996848132, -0.23537629615255218, 0.29327809829982554, -0.9438483652506398, 0.19421970143528478]\n",
      "      accelerations: [0.33330123113931354, 0.526473362753403, -0.012804485735702094, -0.17097545667365144, 0.213034862086086, -0.6856038943480037, 0.14107963584574548]\n",
      "      effort: []\n",
      "      time_from_start: \n",
      "        secs: 1\n",
      "        nsecs:  45309277\n",
      "    - \n",
      "      positions: [0.5063510297039491, 0.7389643179889855, -0.08045763040365728, -1.5145135438643655, 0.18648394425165027, 0.9313461831490987, 0.3270630756308665]\n",
      "      velocities: [0.4774758001141579, 0.7542075055053514, -0.018343262792055413, -0.24493351763529303, 0.30518636513597247, -0.982172393711759, 0.20210580013456034]\n",
      "      accelerations: [0.3609174731333957, 0.5700952111920867, -0.0138654232410282, -0.1851419197568734, 0.23068622894246463, -0.742410774399486, 0.15276902970310224]\n",
      "      effort: []\n",
      "      time_from_start: \n",
      "        secs: 1\n",
      "        nsecs:  99005087\n",
      "    - \n",
      "      positions: [0.5314793247726277, 0.7786562746008585, -0.08142298806126187, -1.5274037504504951, 0.20254509966987394, 0.8796570342716086, 0.3376993721293663]\n",
      "      velocities: [0.4894115134451146, 0.7730608266068933, -0.01880179896538196, -0.2510562494071205, 0.31281526897970396, -1.0067242728438959, 0.20715794496023057]\n",
      "      accelerations: [0.09484370898731401, 0.14981248714833106, -0.003643625661678852, -0.048652524928608845, 0.06062088758205777, -0.19509443758691705, 0.040145414046187586]\n",
      "      effort: []\n",
      "      time_from_start: \n",
      "        secs: 1\n",
      "        nsecs: 150605705\n",
      "    - \n",
      "      positions: [0.5566076198413061, 0.8183482312127314, -0.08238834571886645, -1.5402939570366248, 0.21860625508809758, 0.8279678853941186, 0.348335668627866]\n",
      "      velocities: [0.4822505581152994, 0.7617495805604049, -0.018526695419975963, -0.247382852811646, 0.3082382287873325, -0.9919941176488777, 0.20412685813590592]\n",
      "      accelerations: [-0.36817191434326524, -0.5815541249370498, 0.014144118248164696, 0.1888632723440132, -0.235323022144212, 0.757333230964902, -0.15583968720011618]\n",
      "      effort: []\n",
      "      time_from_start: \n",
      "        secs: 1\n",
      "        nsecs: 201695426\n",
      "    - \n",
      "      positions: [0.5817359149099848, 0.8580401878246043, -0.08335370337647105, -1.5531841636227544, 0.23466741050632128, 0.7762787365166284, 0.35897196512636587]\n",
      "      velocities: [0.4634333074646709, 0.7320263743365787, -0.01780379014681672, -0.23773005911407738, 0.29621087928282364, -0.9532868489031459, 0.19616189844963788]\n",
      "      accelerations: [-0.3400005858853029, -0.5370554773447452, 0.013061855898993571, 0.17441206335277873, -0.2173168628140287, 0.6993845326244612, -0.1439153365262536]\n",
      "      effort: []\n",
      "      time_from_start: \n",
      "        secs: 1\n",
      "        nsecs: 254859594\n",
      "    - \n",
      "      positions: [0.6068642099786632, 0.8977321444364772, -0.08431906103407563, -1.566074370208884, 0.2507285659245449, 0.7245895876391384, 0.3696082616248656]\n",
      "      velocities: [0.44318946428582673, 0.7000497621981087, -0.017026079244480137, -0.22734545801164338, 0.28327170013561553, -0.9116450653653496, 0.18759309114572736]\n",
      "      accelerations: [-0.38856624699375125, -0.613768446062924, 0.014927610528162822, 0.1993250708994458, -0.24835838906639796, 0.7992845728185689, -0.16447219363823543]\n",
      "      effort: []\n",
      "      time_from_start: \n",
      "        secs: 1\n",
      "        nsecs: 310182441\n",
      "    - \n",
      "      positions: [0.6319925050473416, 0.9374241010483502, -0.08528441869168023, -1.5789645767950136, 0.26678972134276857, 0.6729004387616484, 0.3802445581233654]\n",
      "      velocities: [0.42004490444218534, 0.6634912586225984, -0.016136931054526016, -0.21547285953593265, 0.26847848110825434, -0.864036479259833, 0.17779646944292454]\n",
      "      accelerations: [-0.40492979730778184, -0.6396158554199386, 0.015556251610191554, 0.20771917577025636, -0.25881741639279104, 0.8329445559585346, -0.17139855185050384]\n",
      "      effort: []\n",
      "      time_from_start: \n",
      "        secs: 1\n",
      "        nsecs: 368327309\n",
      "    - \n",
      "      positions: [0.6571208001160203, 0.9771160576602231, -0.08624977634928481, -1.5918547833811432, 0.28285087676099224, 0.6212112898841582, 0.39088085462186517]\n",
      "      velocities: [0.39572453723712986, 0.6250754824129692, -0.015202611688528904, -0.2029971003701444, 0.25293372582576995, -0.814009245904703, 0.16750215238566446]\n",
      "      accelerations: [-0.38383468054945424, -0.6062945951907791, 0.014745837197062682, 0.19689789194532134, -0.24533413199578225, 0.7895516943365184, -0.16246941774490428]\n",
      "      effort: []\n",
      "      time_from_start: \n",
      "        secs: 1\n",
      "        nsecs: 429927927\n",
      "    - \n",
      "      positions: [0.6822490951846987, 1.016808014272096, -0.0872151340068894, -1.6047449899672728, 0.2989120321792159, 0.5695221410066682, 0.40151715112036496]\n",
      "      velocities: [0.367099833781472, 0.5798606962731048, -0.014102931960873113, -0.18831332098910578, 0.23463778454740852, -0.7551279507571564, 0.1553858972914023]\n",
      "      accelerations: [-0.47898822181059686, -0.7565964847891419, 0.018401365733870304, 0.24570935332408456, -0.30615305387703884, 0.9852834599428887, -0.2027459774944008]\n",
      "      effort: []\n",
      "      time_from_start: \n",
      "        secs: 1\n",
      "        nsecs: 495447019\n",
      "    - \n",
      "      positions: [0.7073773902533772, 1.0564999708839689, -0.08818049166449399, -1.6176351965534024, 0.31497318759743953, 0.5178329921291782, 0.41215344761886474]\n",
      "      velocities: [0.33561283191356434, 0.5301247031003411, -0.012893290865640764, -0.17216125186758802, 0.21451235903516458, -0.6903588797633684, 0.14205808946359078]\n",
      "      accelerations: [-0.40148612623604346, -0.6341763282894698, 0.015423955557854994, 0.20595265594036433, -0.25661633843893383, 0.8258608908619441, -0.16994091588821986]\n",
      "      effort: []\n",
      "      time_from_start: \n",
      "        secs: 1\n",
      "        nsecs: 567104286\n",
      "    - \n",
      "      positions: [0.7325056853220557, 1.0961919274958418, -0.08914584932209857, -1.630525403139532, 0.3310343430156632, 0.466143843251688, 0.42278974411736453]\n",
      "      velocities: [0.30357066651522524, 0.4795117890420944, -0.011662321965881507, -0.1557243973049261, 0.19403209179090514, -0.6244478319543056, 0.12849529219862585]\n",
      "      accelerations: [-0.40902040306968174, -0.6460772626093796, 0.015713401054094925, 0.20981755742282684, -0.26143199309670156, 0.8413589720439556, -0.17313002211629205]\n",
      "      effort: []\n",
      "      time_from_start: \n",
      "        secs: 1\n",
      "        nsecs: 645494912\n",
      "    - \n",
      "      positions: [0.7576339803907343, 1.1358838841077148, -0.09011120697970317, -1.6434156097256616, 0.3470954984338869, 0.414454694374198, 0.4334260406158643]\n",
      "      velocities: [0.2638127596864861, 0.4167113042295688, -0.01013493621597075, -0.13532955431801252, 0.1686201838626362, -0.5426654285118364, 0.11166657843056366]\n",
      "      accelerations: [-0.4746749226133347, -0.7497833172373513, 0.018235661041279463, 0.2434967353343245, -0.303396139069094, 0.9764109612814026, -0.20092024562426472]\n",
      "      effort: []\n",
      "      time_from_start: \n",
      "        secs: 1\n",
      "        nsecs: 733175499\n",
      "    - \n",
      "      positions: [0.7827622754594127, 1.1755758407195875, -0.09107656463730775, -1.6563058163117912, 0.3631566538521105, 0.36276554549670803, 0.44406233711436405]\n",
      "      velocities: [0.2138246817096155, 0.3377515253529674, -0.008214536374596019, -0.10968688137882913, 0.13666949690793148, -0.4398394628988058, 0.09050764117282478]\n",
      "      accelerations: [-0.45560743631686335, -0.7196648457410125, 0.017503142426017086, 0.2337155768129166, -0.29120884741219966, 0.9371889553632369, -0.19284936627585778]\n",
      "      effort: []\n",
      "      time_from_start: \n",
      "        secs: 1\n",
      "        nsecs: 837426502\n",
      "    - \n",
      "      positions: [0.8078905705280912, 1.2152677973314607, -0.09204192229491234, -1.6691960228979208, 0.3792178092703342, 0.3110763966192178, 0.4546986336128639]\n",
      "      velocities: [0.13143815676631937, 0.20761605995371163, -0.005049480308513104, -0.06742459006420147, 0.08401081959356836, -0.27036957480436247, 0.05563509990478601]\n",
      "      accelerations: [-0.4754924813708327, -0.7510747103319366, 0.018267069324448517, 0.2439161231699013, -0.30391869494612117, 0.9780926876467464, -0.20126630162710804]\n",
      "      effort: []\n",
      "      time_from_start: \n",
      "        secs: 1\n",
      "        nsecs: 972081167\n",
      "    - \n",
      "      positions: [0.8330188655967697, 1.2549597539433335, -0.09300727995251692, -1.6820862294840504, 0.39527896468855783, 0.2593872477417278, 0.4653349301113636]\n",
      "      velocities: [0.0, 0.0, 0.0, 0.0, 0.0, 0.0, 0.0]\n",
      "      accelerations: [-0.4629133000410166, -0.7312049850604182, 0.017783812939964158, 0.2374633079039812, -0.2958785081439488, 0.9522171885435701, -0.195941789877834]\n",
      "      effort: []\n",
      "      time_from_start: \n",
      "        secs: 2\n",
      "        nsecs: 301574537\n",
      "multi_dof_joint_trajectory: \n",
      "  header: \n",
      "    seq: 0\n",
      "    stamp: \n",
      "      secs: 0\n",
      "      nsecs:         0\n",
      "    frame_id: ''\n",
      "  joint_names: []\n",
      "  points: []\n"
     ]
    }
   ],
   "source": [
    "print(yaml_data)"
   ]
  },
  {
   "cell_type": "code",
   "execution_count": 234,
   "metadata": {},
   "outputs": [
    {
     "data": {
      "text/plain": [
       "['__class__',\n",
       " '__delattr__',\n",
       " '__dir__',\n",
       " '__doc__',\n",
       " '__eq__',\n",
       " '__format__',\n",
       " '__ge__',\n",
       " '__getattribute__',\n",
       " '__getstate__',\n",
       " '__gt__',\n",
       " '__hash__',\n",
       " '__init__',\n",
       " '__le__',\n",
       " '__lt__',\n",
       " '__module__',\n",
       " '__ne__',\n",
       " '__new__',\n",
       " '__reduce__',\n",
       " '__reduce_ex__',\n",
       " '__repr__',\n",
       " '__setattr__',\n",
       " '__setstate__',\n",
       " '__sizeof__',\n",
       " '__slots__',\n",
       " '__str__',\n",
       " '__subclasshook__',\n",
       " '_check_types',\n",
       " '_connection_header',\n",
       " '_full_text',\n",
       " '_get_types',\n",
       " '_has_header',\n",
       " '_md5sum',\n",
       " '_slot_types',\n",
       " '_type',\n",
       " 'deserialize',\n",
       " 'deserialize_numpy',\n",
       " 'joint_trajectory',\n",
       " 'multi_dof_joint_trajectory',\n",
       " 'serialize',\n",
       " 'serialize_numpy']"
      ]
     },
     "execution_count": 234,
     "metadata": {},
     "output_type": "execute_result"
    }
   ],
   "source": [
    "dir(yaml_data)"
   ]
  },
  {
   "cell_type": "code",
   "execution_count": 235,
   "metadata": {},
   "outputs": [
    {
     "data": {
      "text/plain": [
       "['__class__',\n",
       " '__delattr__',\n",
       " '__dir__',\n",
       " '__doc__',\n",
       " '__eq__',\n",
       " '__format__',\n",
       " '__ge__',\n",
       " '__getattribute__',\n",
       " '__getstate__',\n",
       " '__gt__',\n",
       " '__hash__',\n",
       " '__init__',\n",
       " '__le__',\n",
       " '__lt__',\n",
       " '__module__',\n",
       " '__ne__',\n",
       " '__new__',\n",
       " '__reduce__',\n",
       " '__reduce_ex__',\n",
       " '__repr__',\n",
       " '__setattr__',\n",
       " '__setstate__',\n",
       " '__sizeof__',\n",
       " '__slots__',\n",
       " '__str__',\n",
       " '__subclasshook__',\n",
       " '_check_types',\n",
       " '_connection_header',\n",
       " '_full_text',\n",
       " '_get_types',\n",
       " '_has_header',\n",
       " '_md5sum',\n",
       " '_slot_types',\n",
       " '_type',\n",
       " 'deserialize',\n",
       " 'deserialize_numpy',\n",
       " 'header',\n",
       " 'joint_names',\n",
       " 'points',\n",
       " 'serialize',\n",
       " 'serialize_numpy']"
      ]
     },
     "execution_count": 235,
     "metadata": {},
     "output_type": "execute_result"
    }
   ],
   "source": [
    "joint_trajectory = yaml_data.joint_trajectory\n",
    "dir(joint_trajectory)"
   ]
  },
  {
   "cell_type": "code",
   "execution_count": 236,
   "metadata": {},
   "outputs": [
    {
     "data": {
      "text/plain": [
       "['joint_a1',\n",
       " 'joint_a2',\n",
       " 'joint_a3',\n",
       " 'joint_a4',\n",
       " 'joint_a5',\n",
       " 'joint_a6',\n",
       " 'joint_a7']"
      ]
     },
     "execution_count": 236,
     "metadata": {},
     "output_type": "execute_result"
    }
   ],
   "source": [
    "# get joint names\n",
    "joint_names = joint_trajectory.joint_names\n",
    "joint_names"
   ]
  },
  {
   "cell_type": "code",
   "execution_count": 237,
   "metadata": {},
   "outputs": [
    {
     "data": {
      "text/plain": [
       "(list, trajectory_msgs.msg._JointTrajectoryPoint.JointTrajectoryPoint)"
      ]
     },
     "execution_count": 237,
     "metadata": {},
     "output_type": "execute_result"
    }
   ],
   "source": [
    "# get joint points\n",
    "joint_trajectory_points_list = joint_trajectory.points\n",
    "type(joint_trajectory_points_list), type(joint_trajectory_points_list[0])"
   ]
  },
  {
   "cell_type": "code",
   "execution_count": 238,
   "metadata": {},
   "outputs": [
    {
     "data": {
      "text/plain": [
       "positions: [0.3053246691545211, 0.4214286650940023, -0.07273476914282058, -1.4113918911753287, 0.05799470090586102, 1.3448593741690191, 0.2419727036428683]\n",
       "velocities: [0.2625161490683741, 0.41466321412811413, -0.010085124122245128, -0.13466442448395272, 0.1677914342559677, -0.5399982877809366, 0.11111774951321574]\n",
       "accelerations: [0.4378683340441406, 0.6916446527347844, -0.016821656548398234, -0.2246158471128731, 0.27987061384708417, -0.9006994483822997, 0.18534076488152829]\n",
       "effort: []\n",
       "time_from_start: \n",
       "  secs: 0\n",
       "  nsecs: 565049168"
      ]
     },
     "execution_count": 238,
     "metadata": {},
     "output_type": "execute_result"
    }
   ],
   "source": [
    "joint_trajectory_points_list[3]"
   ]
  },
  {
   "cell_type": "code",
   "execution_count": 239,
   "metadata": {},
   "outputs": [
    {
     "data": {
      "text/plain": [
       "genpy.rostime.Duration"
      ]
     },
     "execution_count": 239,
     "metadata": {},
     "output_type": "execute_result"
    }
   ],
   "source": [
    "type(joint_trajectory_points_list[1].time_from_start)"
   ]
  },
  {
   "cell_type": "code",
   "execution_count": 240,
   "metadata": {},
   "outputs": [
    {
     "data": {
      "text/plain": [
       "['__abs__',\n",
       " '__add__',\n",
       " '__bool__',\n",
       " '__class__',\n",
       " '__cmp__',\n",
       " '__delattr__',\n",
       " '__dir__',\n",
       " '__div__',\n",
       " '__divmod__',\n",
       " '__doc__',\n",
       " '__eq__',\n",
       " '__floordiv__',\n",
       " '__format__',\n",
       " '__ge__',\n",
       " '__getattribute__',\n",
       " '__getstate__',\n",
       " '__gt__',\n",
       " '__hash__',\n",
       " '__init__',\n",
       " '__le__',\n",
       " '__lt__',\n",
       " '__mod__',\n",
       " '__module__',\n",
       " '__mul__',\n",
       " '__ne__',\n",
       " '__neg__',\n",
       " '__new__',\n",
       " '__nonzero__',\n",
       " '__radd__',\n",
       " '__reduce__',\n",
       " '__reduce_ex__',\n",
       " '__repr__',\n",
       " '__rmul__',\n",
       " '__setattr__',\n",
       " '__setstate__',\n",
       " '__sizeof__',\n",
       " '__slots__',\n",
       " '__str__',\n",
       " '__sub__',\n",
       " '__subclasshook__',\n",
       " '__truediv__',\n",
       " '_slot_types',\n",
       " 'canon',\n",
       " 'from_sec',\n",
       " 'is_zero',\n",
       " 'nsecs',\n",
       " 'secs',\n",
       " 'set',\n",
       " 'to_nsec',\n",
       " 'to_sec']"
      ]
     },
     "execution_count": 240,
     "metadata": {},
     "output_type": "execute_result"
    }
   ],
   "source": [
    "dir(joint_trajectory_points_list[1].time_from_start)"
   ]
  },
  {
   "cell_type": "code",
   "execution_count": 241,
   "metadata": {},
   "outputs": [
    {
     "name": "stdout",
     "output_type": "stream",
     "text": [
      "1310182441 nanosec\n",
      "1310.182441 millisec\n",
      "1.310182441 sec\n",
      "1310\n"
     ]
    }
   ],
   "source": [
    "i = 15\n",
    "print(joint_trajectory_points_list[i].time_from_start.to_nsec(), \"nanosec\")\n",
    "print(joint_trajectory_points_list[i].time_from_start.to_nsec()*1e-6, \"millisec\") # milliseconds\n",
    "print(joint_trajectory_points_list[i].time_from_start.to_sec(), \"sec\")\n",
    "print(int(joint_trajectory_points_list[i].time_from_start.to_nsec()*1e-6))"
   ]
  },
  {
   "cell_type": "code",
   "execution_count": 242,
   "metadata": {},
   "outputs": [
    {
     "data": {
      "text/plain": [
       "(25, 7)"
      ]
     },
     "execution_count": 242,
     "metadata": {},
     "output_type": "execute_result"
    }
   ],
   "source": [
    "n_samples = len(joint_trajectory_points_list)\n",
    "n_joints = len(joint_trajectory_points_list[0].positions)\n",
    "n_samples, n_joints"
   ]
  },
  {
   "cell_type": "code",
   "execution_count": 243,
   "metadata": {},
   "outputs": [
    {
     "data": {
      "text/plain": [
       "(25, 1)"
      ]
     },
     "execution_count": 243,
     "metadata": {},
     "output_type": "execute_result"
    }
   ],
   "source": [
    "# create empty numpy arrays for the joint positions, velocities, accelerations and time stamp\n",
    "joint_positions = np.empty(shape=(n_samples,n_joints))\n",
    "joint_velocities = np.empty(shape=(n_samples,n_joints))\n",
    "joint_accelerations = np.empty(shape=(n_samples,n_joints))\n",
    "time_from_start_ms = np.empty(shape=(n_samples,1), dtype=int)\n",
    "\n",
    "time_from_start_ms.shape"
   ]
  },
  {
   "cell_type": "code",
   "execution_count": 244,
   "metadata": {},
   "outputs": [],
   "source": [
    "for i in range(n_samples):\n",
    "    positions = joint_trajectory_points_list[i].positions\n",
    "    velocities = joint_trajectory_points_list[i].velocities\n",
    "    accelerations = joint_trajectory_points_list[i].accelerations\n",
    "    time_from_start = joint_trajectory_points_list[i].time_from_start\n",
    "    # fill numpy arrays\n",
    "    joint_positions[i] = positions\n",
    "    joint_velocities[i] = velocities\n",
    "    joint_accelerations[i] = accelerations\n",
    "    time_from_start_ms[i] = int(time_from_start.to_nsec()*1e-6) # convert nanoseconds to milliseconds\n",
    "    "
   ]
  },
  {
   "cell_type": "code",
   "execution_count": 245,
   "metadata": {},
   "outputs": [
    {
     "data": {
      "text/plain": [
       "(25, 22)"
      ]
     },
     "execution_count": 245,
     "metadata": {},
     "output_type": "execute_result"
    }
   ],
   "source": [
    "# stack numpy arrays horizontally\n",
    "DATA = np.hstack((joint_positions, joint_velocities, joint_accelerations, time_from_start_ms))\n",
    "DATA.shape"
   ]
  },
  {
   "cell_type": "code",
   "execution_count": 246,
   "metadata": {},
   "outputs": [
    {
     "data": {
      "text/html": [
       "<div>\n",
       "<style scoped>\n",
       "    .dataframe tbody tr th:only-of-type {\n",
       "        vertical-align: middle;\n",
       "    }\n",
       "\n",
       "    .dataframe tbody tr th {\n",
       "        vertical-align: top;\n",
       "    }\n",
       "\n",
       "    .dataframe thead th {\n",
       "        text-align: right;\n",
       "    }\n",
       "</style>\n",
       "<table border=\"1\" class=\"dataframe\">\n",
       "  <thead>\n",
       "    <tr style=\"text-align: right;\">\n",
       "      <th></th>\n",
       "      <th>pos_joint_1</th>\n",
       "      <th>pos_joint_2</th>\n",
       "      <th>pos_joint_3</th>\n",
       "      <th>pos_joint_4</th>\n",
       "      <th>pos_joint_5</th>\n",
       "      <th>pos_joint_6</th>\n",
       "      <th>pos_joint_7</th>\n",
       "      <th>vel_joint_1</th>\n",
       "      <th>vel_joint_2</th>\n",
       "      <th>vel_joint_3</th>\n",
       "      <th>...</th>\n",
       "      <th>vel_joint_6</th>\n",
       "      <th>vel_joint_7</th>\n",
       "      <th>acc_joint_1</th>\n",
       "      <th>acc_joint_2</th>\n",
       "      <th>acc_joint_3</th>\n",
       "      <th>acc_joint_4</th>\n",
       "      <th>acc_joint_5</th>\n",
       "      <th>acc_joint_6</th>\n",
       "      <th>acc_joint_7</th>\n",
       "      <th>time_from_start_ms</th>\n",
       "    </tr>\n",
       "  </thead>\n",
       "  <tbody>\n",
       "    <tr>\n",
       "      <th>0</th>\n",
       "      <td>0.229940</td>\n",
       "      <td>0.302353</td>\n",
       "      <td>-0.069839</td>\n",
       "      <td>-1.372721</td>\n",
       "      <td>0.009811</td>\n",
       "      <td>1.499927</td>\n",
       "      <td>0.210064</td>\n",
       "      <td>0.000000</td>\n",
       "      <td>0.000000</td>\n",
       "      <td>0.000000</td>\n",
       "      <td>...</td>\n",
       "      <td>0.000000</td>\n",
       "      <td>0.000000</td>\n",
       "      <td>0.470698</td>\n",
       "      <td>0.000000</td>\n",
       "      <td>0.000000</td>\n",
       "      <td>0.000000</td>\n",
       "      <td>0.000000</td>\n",
       "      <td>0.000000</td>\n",
       "      <td>0.000000</td>\n",
       "      <td>0.0</td>\n",
       "    </tr>\n",
       "    <tr>\n",
       "      <th>1</th>\n",
       "      <td>0.255068</td>\n",
       "      <td>0.342045</td>\n",
       "      <td>-0.070804</td>\n",
       "      <td>-1.385611</td>\n",
       "      <td>0.025872</td>\n",
       "      <td>1.448238</td>\n",
       "      <td>0.220700</td>\n",
       "      <td>0.132068</td>\n",
       "      <td>0.208611</td>\n",
       "      <td>-0.005074</td>\n",
       "      <td>...</td>\n",
       "      <td>-0.271665</td>\n",
       "      <td>0.055902</td>\n",
       "      <td>0.478701</td>\n",
       "      <td>0.756143</td>\n",
       "      <td>-0.018390</td>\n",
       "      <td>-0.245562</td>\n",
       "      <td>0.305969</td>\n",
       "      <td>-0.984692</td>\n",
       "      <td>0.202624</td>\n",
       "      <td>326.0</td>\n",
       "    </tr>\n",
       "    <tr>\n",
       "      <th>2</th>\n",
       "      <td>0.280196</td>\n",
       "      <td>0.381737</td>\n",
       "      <td>-0.071769</td>\n",
       "      <td>-1.398502</td>\n",
       "      <td>0.041934</td>\n",
       "      <td>1.396549</td>\n",
       "      <td>0.231336</td>\n",
       "      <td>0.214329</td>\n",
       "      <td>0.338548</td>\n",
       "      <td>-0.008234</td>\n",
       "      <td>...</td>\n",
       "      <td>-0.440876</td>\n",
       "      <td>0.090721</td>\n",
       "      <td>0.454814</td>\n",
       "      <td>0.718411</td>\n",
       "      <td>-0.017473</td>\n",
       "      <td>-0.233308</td>\n",
       "      <td>0.290702</td>\n",
       "      <td>-0.935556</td>\n",
       "      <td>0.192513</td>\n",
       "      <td>460.0</td>\n",
       "    </tr>\n",
       "    <tr>\n",
       "      <th>3</th>\n",
       "      <td>0.305325</td>\n",
       "      <td>0.421429</td>\n",
       "      <td>-0.072735</td>\n",
       "      <td>-1.411392</td>\n",
       "      <td>0.057995</td>\n",
       "      <td>1.344859</td>\n",
       "      <td>0.241973</td>\n",
       "      <td>0.262516</td>\n",
       "      <td>0.414663</td>\n",
       "      <td>-0.010085</td>\n",
       "      <td>...</td>\n",
       "      <td>-0.539998</td>\n",
       "      <td>0.111118</td>\n",
       "      <td>0.437868</td>\n",
       "      <td>0.691645</td>\n",
       "      <td>-0.016822</td>\n",
       "      <td>-0.224616</td>\n",
       "      <td>0.279871</td>\n",
       "      <td>-0.900699</td>\n",
       "      <td>0.185341</td>\n",
       "      <td>565.0</td>\n",
       "    </tr>\n",
       "    <tr>\n",
       "      <th>4</th>\n",
       "      <td>0.330453</td>\n",
       "      <td>0.461121</td>\n",
       "      <td>-0.073700</td>\n",
       "      <td>-1.424282</td>\n",
       "      <td>0.074056</td>\n",
       "      <td>1.293170</td>\n",
       "      <td>0.252609</td>\n",
       "      <td>0.303725</td>\n",
       "      <td>0.479755</td>\n",
       "      <td>-0.011668</td>\n",
       "      <td>...</td>\n",
       "      <td>-0.624765</td>\n",
       "      <td>0.128561</td>\n",
       "      <td>0.484151</td>\n",
       "      <td>0.764751</td>\n",
       "      <td>-0.018600</td>\n",
       "      <td>-0.248358</td>\n",
       "      <td>0.309453</td>\n",
       "      <td>-0.995903</td>\n",
       "      <td>0.204931</td>\n",
       "      <td>653.0</td>\n",
       "    </tr>\n",
       "  </tbody>\n",
       "</table>\n",
       "<p>5 rows × 22 columns</p>\n",
       "</div>"
      ],
      "text/plain": [
       "   pos_joint_1  pos_joint_2  pos_joint_3  pos_joint_4  pos_joint_5  \\\n",
       "0     0.229940     0.302353    -0.069839    -1.372721     0.009811   \n",
       "1     0.255068     0.342045    -0.070804    -1.385611     0.025872   \n",
       "2     0.280196     0.381737    -0.071769    -1.398502     0.041934   \n",
       "3     0.305325     0.421429    -0.072735    -1.411392     0.057995   \n",
       "4     0.330453     0.461121    -0.073700    -1.424282     0.074056   \n",
       "\n",
       "   pos_joint_6  pos_joint_7  vel_joint_1  vel_joint_2  vel_joint_3  \\\n",
       "0     1.499927     0.210064     0.000000     0.000000     0.000000   \n",
       "1     1.448238     0.220700     0.132068     0.208611    -0.005074   \n",
       "2     1.396549     0.231336     0.214329     0.338548    -0.008234   \n",
       "3     1.344859     0.241973     0.262516     0.414663    -0.010085   \n",
       "4     1.293170     0.252609     0.303725     0.479755    -0.011668   \n",
       "\n",
       "          ...          vel_joint_6  vel_joint_7  acc_joint_1  acc_joint_2  \\\n",
       "0         ...             0.000000     0.000000     0.470698     0.000000   \n",
       "1         ...            -0.271665     0.055902     0.478701     0.756143   \n",
       "2         ...            -0.440876     0.090721     0.454814     0.718411   \n",
       "3         ...            -0.539998     0.111118     0.437868     0.691645   \n",
       "4         ...            -0.624765     0.128561     0.484151     0.764751   \n",
       "\n",
       "   acc_joint_3  acc_joint_4  acc_joint_5  acc_joint_6  acc_joint_7  \\\n",
       "0     0.000000     0.000000     0.000000     0.000000     0.000000   \n",
       "1    -0.018390    -0.245562     0.305969    -0.984692     0.202624   \n",
       "2    -0.017473    -0.233308     0.290702    -0.935556     0.192513   \n",
       "3    -0.016822    -0.224616     0.279871    -0.900699     0.185341   \n",
       "4    -0.018600    -0.248358     0.309453    -0.995903     0.204931   \n",
       "\n",
       "   time_from_start_ms  \n",
       "0                 0.0  \n",
       "1               326.0  \n",
       "2               460.0  \n",
       "3               565.0  \n",
       "4               653.0  \n",
       "\n",
       "[5 rows x 22 columns]"
      ]
     },
     "execution_count": 246,
     "metadata": {},
     "output_type": "execute_result"
    }
   ],
   "source": [
    "# create dataframe\n",
    "columns_df = ['pos_joint_1','pos_joint_2', 'pos_joint_3', 'pos_joint_4', \n",
    "              'pos_joint_5','pos_joint_6', 'pos_joint_7',\n",
    "              'vel_joint_1', 'vel_joint_2','vel_joint_3','vel_joint_4',\n",
    "              'vel_joint_5','vel_joint_6','vel_joint_7',\n",
    "              'acc_joint_1','acc_joint_2','acc_joint_3','acc_joint_4',\n",
    "              'acc_joint_5','acc_joint_6','acc_joint_7',\n",
    "              'time_from_start_ms'\n",
    "             ]\n",
    "data_df = pd.DataFrame(DATA, columns=columns_df)\n",
    "data_df.head()"
   ]
  },
  {
   "cell_type": "code",
   "execution_count": 247,
   "metadata": {},
   "outputs": [
    {
     "data": {
      "image/png": "[encoded data removed]",
      "text/plain": [
       "<Figure size 432x288 with 1 Axes>"
      ]
     },
     "metadata": {},
     "output_type": "display_data"
    }
   ],
   "source": [
    "# plot joint trajectory positions\n",
    "data_df.plot(x='time_from_start_ms',\n",
    "             y=['pos_joint_1','pos_joint_2', 'pos_joint_3', 'pos_joint_4', \n",
    "                'pos_joint_5','pos_joint_6', 'pos_joint_7'],\n",
    "             label=['joint_1','joint_2', 'joint_3', 'joint_4', \n",
    "                    'joint_5','joint_6', 'joint_7'], style='-o')\n",
    "plt.xlabel('Time (ms)')\n",
    "plt.ylabel('Position')\n",
    "plt.title('Joint Positions')\n",
    "plt.show()"
   ]
  },
  {
   "cell_type": "code",
   "execution_count": 248,
   "metadata": {
    "collapsed": true
   },
   "outputs": [],
   "source": [
    "# save to dataset to csv\n",
    "data_df.to_csv(\"../trajectory_\" + str(dataset_num) + \".csv\")"
   ]
  },
  {
   "cell_type": "code",
   "execution_count": null,
   "metadata": {
    "collapsed": true
   },
   "outputs": [],
   "source": []
  },
  {
   "cell_type": "code",
   "execution_count": null,
   "metadata": {
    "collapsed": true
   },
   "outputs": [],
   "source": []
  },
  {
   "cell_type": "code",
   "execution_count": null,
   "metadata": {
    "collapsed": true
   },
   "outputs": [],
   "source": []
  }
 ],
 "metadata": {
  "kernelspec": {
   "display_name": "Python 3",
   "language": "python",
   "name": "python3"
  },
  "language_info": {
   "codemirror_mode": {
    "name": "ipython",
    "version": 3
   },
   "file_extension": ".py",
   "mimetype": "text/x-python",
   "name": "python",
   "nbconvert_exporter": "python",
   "pygments_lexer": "ipython3",
   "version": "3.5.2"
  }
 },
 "nbformat": 4,
 "nbformat_minor": 2
}
